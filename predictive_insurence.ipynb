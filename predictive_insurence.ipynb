{
 "cells": [
  {
   "cell_type": "code",
   "execution_count": 109,
   "id": "7607dc0e",
   "metadata": {},
   "outputs": [],
   "source": [
    "import pandas as pd\n",
    "import numpy as np\n",
    "from sklearn.model_selection import train_test_split \n",
    "from sklearn.impute import SimpleImputer \n",
    "from matplotlib import pyplot as plt\n",
    "import seaborn as sb\n",
    "\n",
    "from sklearn.preprocessing import StandardScaler\n",
    "from sklearn.preprocessing import OneHotEncoder\n",
    "from sklearn.preprocessing import LabelEncoder\n",
    "from sklearn.preprocessing import MinMaxScaler\n",
    "from sklearn.preprocessing import StandardScaler\n",
    "\n",
    "from sklearn.linear_model import LinearRegression\n",
    "from sklearn.preprocessing import PolynomialFeatures\n",
    "from sklearn.svm import SVR\n",
    "from sklearn.tree import DecisionTreeRegressor\n",
    "from sklearn.ensemble import RandomForestRegressor\n",
    "\n",
    "from sklearn.metrics import r2_score"
   ]
  },
  {
   "cell_type": "code",
   "execution_count": 88,
   "id": "e876718b",
   "metadata": {},
   "outputs": [],
   "source": [
    "data = pd.read_csv(\"DataSets/insurance.csv\")"
   ]
  },
  {
   "cell_type": "code",
   "execution_count": 89,
   "id": "8d1422f3",
   "metadata": {},
   "outputs": [
    {
     "name": "stdout",
     "output_type": "stream",
     "text": [
      "    age     sex     bmi  children smoker     region      charges\n",
      "0    19  female  27.900         0    yes  southwest  16884.92400\n",
      "1    18    male  33.770         1     no  southeast   1725.55230\n",
      "2    28    male  33.000         3     no  southeast   4449.46200\n",
      "3    33    male  22.705         0     no  northwest  21984.47061\n",
      "4    32    male  28.880         0     no  northwest   3866.85520\n",
      "5    31  female  25.740         0     no  southeast   3756.62160\n",
      "6    46  female  33.440         1     no  southeast   8240.58960\n",
      "7    37  female  27.740         3     no  northwest   7281.50560\n",
      "8    37    male  29.830         2     no  northeast   6406.41070\n",
      "9    60  female  25.840         0     no  northwest  28923.13692\n",
      "10   25    male  26.220         0     no  northeast   2721.32080\n",
      "11   62  female  26.290         0    yes  southeast  27808.72510\n",
      "12   23    male  34.400         0     no  southwest   1826.84300\n",
      "13   56  female  39.820         0     no  southeast  11090.71780\n",
      "14   27    male     NaN         0    yes  southeast  39611.75770\n"
     ]
    }
   ],
   "source": [
    "print(data.head(15))"
   ]
  },
  {
   "cell_type": "code",
   "execution_count": 90,
   "id": "0b3471e6",
   "metadata": {},
   "outputs": [
    {
     "name": "stdout",
     "output_type": "stream",
     "text": [
      "bmi    5\n",
      "dtype: int64\n"
     ]
    }
   ],
   "source": [
    "count_nan = data.isnull().sum()\n",
    "print(count_nan[count_nan>0])"
   ]
  },
  {
   "cell_type": "code",
   "execution_count": 91,
   "id": "697177dc",
   "metadata": {},
   "outputs": [],
   "source": [
    "data['bmi'].fillna(data['bmi'].mean(),inplace=True)"
   ]
  },
  {
   "cell_type": "code",
   "execution_count": 92,
   "id": "b5296509",
   "metadata": {},
   "outputs": [
    {
     "name": "stdout",
     "output_type": "stream",
     "text": [
      "Series([], dtype: int64)\n"
     ]
    }
   ],
   "source": [
    "count_nan = data.isnull().sum()\n",
    "print(count_nan[count_nan>0])"
   ]
  },
  {
   "cell_type": "code",
   "execution_count": 93,
   "id": "74fc81d8",
   "metadata": {},
   "outputs": [
    {
     "name": "stdout",
     "output_type": "stream",
     "text": [
      "Pandas factorize function for label encoding with series\n",
      "0    southwest\n",
      "1    southeast\n",
      "2    southeast\n",
      "3    northwest\n",
      "4    northwest\n",
      "5    southeast\n",
      "6    southeast\n",
      "7    northwest\n",
      "8    northeast\n",
      "9    northwest\n",
      "Name: region, dtype: object\n",
      "Index(['southwest', 'southeast', 'northwest', 'northeast'], dtype='object')\n",
      "[0 1 1 2 2 1 1 2 3 2]\n",
      "{'southwest': 0, 'southeast': 1, 'northwest': 1, 'northeast': 2}\n"
     ]
    }
   ],
   "source": [
    "#create series for pandas\n",
    "\n",
    "region = data[\"region\"] # series \n",
    "region_encoded, region_categories = pd.factorize(region)\n",
    "factor_region_mapping = dict(zip(region_categories, region_encoded)) #mapping of encoded numbers and original categories. \n",
    "\n",
    "print(\"Pandas factorize function for label encoding with series\")  \n",
    "print(region[:10]) #original version \n",
    "print(region_categories) #list of categories\n",
    "print(region_encoded[:10]) #encoded numbers for categories \n",
    "print(factor_region_mapping) # print factor mapping"
   ]
  },
  {
   "cell_type": "code",
   "execution_count": 94,
   "id": "5968dd5c",
   "metadata": {},
   "outputs": [
    {
     "name": "stdout",
     "output_type": "stream",
     "text": [
      "Pandas get_dummies function for one hot encoding with series\n",
      "0    southwest\n",
      "1    southeast\n",
      "2    southeast\n",
      "3    northwest\n",
      "4    northwest\n",
      "5    southeast\n",
      "6    southeast\n",
      "7    northwest\n",
      "8    northeast\n",
      "9    northwest\n",
      "Name: region, dtype: object\n",
      "   _northeast  _northwest  _southeast  _southwest\n",
      "0           0           0           0           1\n",
      "1           0           0           1           0\n",
      "2           0           0           1           0\n",
      "3           0           1           0           0\n",
      "4           0           1           0           0\n",
      "5           0           0           1           0\n",
      "6           0           0           1           0\n",
      "7           0           1           0           0\n",
      "8           1           0           0           0\n",
      "9           0           1           0           0\n"
     ]
    }
   ],
   "source": [
    "#create series for pandas\n",
    "region = data[\"region\"] # series \n",
    "region_encoded = pd.get_dummies(region, prefix='')\n",
    "\n",
    "print(\"Pandas get_dummies function for one hot encoding with series\")  \n",
    "\n",
    "print(region[:10]) #original version \n",
    "print(region_encoded[:10]) #encoded numbers for categories "
   ]
  },
  {
   "cell_type": "code",
   "execution_count": 95,
   "id": "1e119572",
   "metadata": {},
   "outputs": [
    {
     "name": "stdout",
     "output_type": "stream",
     "text": [
      "Sklearn label encoder results for sex:\n",
      "{'female': 0, 'male': 1}\n",
      "  sex\n",
      "0   0\n",
      "1   1\n",
      "2   1\n",
      "3   1\n",
      "4   1\n",
      "5   0\n",
      "6   0\n",
      "7   0\n",
      "8   1\n",
      "9   0\n",
      "Sklearn label encoder results for smoker:\n",
      "{'no': 0, 'yes': 1}\n",
      "  smoker\n",
      "0      1\n",
      "1      0\n",
      "2      0\n",
      "3      0\n",
      "4      0\n",
      "5      0\n",
      "6      0\n",
      "7      0\n",
      "8      0\n",
      "9      0\n"
     ]
    }
   ],
   "source": [
    "#create ndarray for label encodoing (sklearn)\n",
    "sex = data.iloc[:,1:2].values\n",
    "smoker = data.iloc[:,4:5].values\n",
    "\n",
    "#label encoder = le\n",
    "\n",
    "## le for sex\n",
    "le = LabelEncoder()\n",
    "sex[:,0] = le.fit_transform(sex[:,0])\n",
    "sex = pd.DataFrame(sex)\n",
    "sex.columns = ['sex']\n",
    "le_sex_mapping = dict(zip(le.classes_, le.transform(le.classes_)))\n",
    "print(\"Sklearn label encoder results for sex:\")  \n",
    "print(le_sex_mapping)\n",
    "print(sex[:10])\n",
    "\n",
    "## le for smoker\n",
    "le = LabelEncoder()\n",
    "smoker[:,0] = le.fit_transform(smoker[:,0])\n",
    "smoker = pd.DataFrame(smoker)\n",
    "smoker.columns = ['smoker']\n",
    "le_smoker_mapping = dict(zip(le.classes_, le.transform(le.classes_)))\n",
    "print(\"Sklearn label encoder results for smoker:\")  \n",
    "print(le_smoker_mapping)\n",
    "print(smoker[:10])"
   ]
  },
  {
   "cell_type": "code",
   "execution_count": 96,
   "id": "5c5ace2d",
   "metadata": {},
   "outputs": [
    {
     "name": "stdout",
     "output_type": "stream",
     "text": [
      "Sklearn one hot encoder results for region:\n",
      "   northeast  northwest  southeast  southwest\n",
      "0        0.0        0.0        0.0        1.0\n",
      "1        0.0        0.0        1.0        0.0\n",
      "2        0.0        0.0        1.0        0.0\n",
      "3        0.0        1.0        0.0        0.0\n",
      "4        0.0        1.0        0.0        0.0\n",
      "5        0.0        0.0        1.0        0.0\n",
      "6        0.0        0.0        1.0        0.0\n",
      "7        0.0        1.0        0.0        0.0\n",
      "8        1.0        0.0        0.0        0.0\n",
      "9        0.0        1.0        0.0        0.0\n"
     ]
    }
   ],
   "source": [
    "#create ndarray for one hot encodoing (sklearn)\n",
    "region = data.iloc[:,5:6].values #ndarray\n",
    "\n",
    "## ohe for region\n",
    "ohe = OneHotEncoder() \n",
    "\n",
    "region = ohe.fit_transform(region).toarray()\n",
    "region = pd.DataFrame(region)\n",
    "region.columns = ['northeast', 'northwest', 'southeast', 'southwest']\n",
    "print(\"Sklearn one hot encoder results for region:\")   \n",
    "print(region[:10])"
   ]
  },
  {
   "cell_type": "code",
   "execution_count": 97,
   "id": "4145f33f",
   "metadata": {},
   "outputs": [],
   "source": [
    "#putting the data together:"
   ]
  },
  {
   "cell_type": "code",
   "execution_count": 98,
   "id": "8c8b69b5",
   "metadata": {},
   "outputs": [],
   "source": [
    "##take the numerical data from the original data\n",
    "X_num = data[['age','bmi','children']]"
   ]
  },
  {
   "cell_type": "code",
   "execution_count": 99,
   "id": "e7ad612e",
   "metadata": {},
   "outputs": [],
   "source": [
    "##take the encoded data and add to numerical data\n",
    "X_final = pd.concat([X_num, region,sex, smoker], axis = 1)"
   ]
  },
  {
   "cell_type": "code",
   "execution_count": 100,
   "id": "71dfccb4",
   "metadata": {},
   "outputs": [],
   "source": [
    "#define y as being the \"charges column\" from the original dataset\n",
    "y_final = data[['charges']].copy()"
   ]
  },
  {
   "cell_type": "code",
   "execution_count": 101,
   "id": "219b6ed6",
   "metadata": {},
   "outputs": [],
   "source": [
    "#Test train split\n",
    "X_train, X_test, y_train, y_test = train_test_split(X_final,y_final,test_size=0.33,random_state=0)"
   ]
  },
  {
   "cell_type": "code",
   "execution_count": 102,
   "id": "55f1d54e",
   "metadata": {},
   "outputs": [],
   "source": [
    "#standard scaler (fit transform on train, fit only on test)\n",
    "s_scaler = StandardScaler()\n",
    "X_train = s_scaler.fit_transform(X_train.astype(float))\n",
    "X_test= s_scaler.transform(X_test.astype(float))"
   ]
  },
  {
   "cell_type": "code",
   "execution_count": 103,
   "id": "790e2014",
   "metadata": {},
   "outputs": [
    {
     "name": "stdout",
     "output_type": "stream",
     "text": [
      "lr.coef_: [[3624.36356197 1966.90473927  661.35603447  242.57758422  -29.49212715\n",
      "  -104.19142495  -99.14488063  -44.54996175 9310.54961689]]\n",
      "lr.intercept_: [13141.35083164]\n",
      "lr train score 0.728, lr test score: 0.786\n"
     ]
    }
   ],
   "source": [
    "##############################02_02_LinearRegression##############\n",
    "lr = LinearRegression().fit(X_train,y_train)\n",
    "y_train_pred = lr.predict(X_train)\n",
    "y_test_pred = lr.predict(X_test)\n",
    "\n",
    "#print score\n",
    "print(\"lr.coef_: {}\".format(lr.coef_))\n",
    "print(\"lr.intercept_: {}\".format(lr.intercept_))\n",
    "print('lr train score %.3f, lr test score: %.3f' % (\n",
    "lr.score(X_train,y_train),\n",
    "lr.score(X_test, y_test)))"
   ]
  },
  {
   "cell_type": "code",
   "execution_count": 104,
   "id": "c2c2d940",
   "metadata": {},
   "outputs": [
    {
     "name": "stdout",
     "output_type": "stream",
     "text": [
      "poly train score 0.828, poly test score: 0.870\n"
     ]
    }
   ],
   "source": [
    "##########################02_03_PolynomialRegression######################\n",
    "poly = PolynomialFeatures (degree = 2)\n",
    "X_poly = poly.fit_transform(X_final)\n",
    "\n",
    "X_train,X_test,y_train,y_test = train_test_split(X_poly,y_final, test_size = 0.33, random_state = 0)\n",
    "\n",
    "#standard scaler (fit transform on train, fit only on test)\n",
    "sc = StandardScaler()\n",
    "X_train = sc.fit_transform(X_train.astype(float))\n",
    "X_test= sc.transform(X_test.astype(float))\n",
    "\n",
    "#fit model\n",
    "poly_lr = LinearRegression().fit(X_train,y_train)\n",
    "\n",
    "y_train_pred = poly_lr.predict(X_train)\n",
    "y_test_pred = poly_lr.predict(X_test)\n",
    "\n",
    "#print score\n",
    "print('poly train score %.3f, poly test score: %.3f' % (\n",
    "poly_lr.score(X_train,y_train),\n",
    "poly_lr.score(X_test, y_test)))"
   ]
  },
  {
   "cell_type": "code",
   "execution_count": 105,
   "id": "b849e006",
   "metadata": {},
   "outputs": [
    {
     "name": "stdout",
     "output_type": "stream",
     "text": [
      "svr train score 0.598, svr test score: 0.628\n"
     ]
    }
   ],
   "source": [
    "############################################02_04_SupportVectorRegression##############################################\n",
    "\n",
    "svr = SVR(kernel='linear', C = 300)\n",
    "\n",
    "#test train split\n",
    "X_train, X_test, y_train, y_test = train_test_split(X_final, y_final, test_size = 0.33, random_state = 0 )\n",
    "\n",
    "#standard scaler (fit transform on train, fit only on test)\n",
    "sc = StandardScaler()\n",
    "X_train = sc.fit_transform(X_train.astype(float))\n",
    "X_test= sc.transform(X_test.astype(float))\n",
    "\n",
    "#fit model\n",
    "svr = svr.fit(X_train,y_train.values.ravel())\n",
    "y_train_pred = svr.predict(X_train)\n",
    "y_test_pred = svr.predict(X_test)\n",
    "\n",
    "#print score\n",
    "print('svr train score %.3f, svr test score: %.3f' % (\n",
    "svr.score(X_train,y_train),\n",
    "svr.score(X_test, y_test)))"
   ]
  },
  {
   "cell_type": "code",
   "execution_count": 108,
   "id": "8447ee70",
   "metadata": {},
   "outputs": [
    {
     "name": "stdout",
     "output_type": "stream",
     "text": [
      "dt train score 0.999, dt test score: 0.701\n"
     ]
    }
   ],
   "source": [
    "############################################02_05_DecisionTree##############################################\n",
    "\n",
    "dt = DecisionTreeRegressor(random_state=0)\n",
    "\n",
    "#test train split\n",
    "X_train, X_test, y_train, y_test = train_test_split(X_final, y_final, test_size = 0.33, random_state = 0 )\n",
    "\n",
    "#standard scaler (fit transform on train, fit only on test)\n",
    "sc = StandardScaler()\n",
    "X_train = sc.fit_transform(X_train.astype(float))\n",
    "X_test= sc.transform(X_test.astype(float))\n",
    "\n",
    "\n",
    "#fit model\n",
    "dt = dt.fit(X_train,y_train.values.ravel())\n",
    "y_train_pred = dt.predict(X_train)\n",
    "y_test_pred = dt.predict(X_test)\n",
    "\n",
    "#print score\n",
    "print('dt train score %.3f, dt test score: %.3f' % (\n",
    "dt.score(X_train,y_train),\n",
    "dt.score(X_test, y_test)))"
   ]
  },
  {
   "cell_type": "code",
   "execution_count": 111,
   "id": "eca07823",
   "metadata": {},
   "outputs": [
    {
     "name": "stdout",
     "output_type": "stream",
     "text": [
      "forest train score 0.973, forest test score: 0.858\n"
     ]
    }
   ],
   "source": [
    "############################################02_06_RandomForestRegression#######################################\n",
    "forest = RandomForestRegressor(n_estimators = 100,\n",
    "                              criterion = 'mse',\n",
    "                              random_state = 1,\n",
    "                              n_jobs = -1)\n",
    "#test train split\n",
    "X_train, X_test, y_train, y_test = train_test_split(X_final, y_final, test_size = 0.33, random_state = 0 )\n",
    "\n",
    "#standard scaler (fit transform on train, fit only on test)\n",
    "sc = StandardScaler()\n",
    "X_train = sc.fit_transform(X_train.astype(float))\n",
    "X_test= sc.transform(X_test.astype(float))\n",
    "\n",
    "#fit model\n",
    "forest.fit(X_train,y_train.values.ravel())\n",
    "y_train_pred = forest.predict(X_train)\n",
    "y_test_pred = forest.predict(X_test)\n",
    "\n",
    "#print score\n",
    "print('forest train score %.3f, forest test score: %.3f' % (\n",
    "forest.score(X_train,y_train),\n",
    "forest.score(X_test, y_test)))"
   ]
  },
  {
   "cell_type": "code",
   "execution_count": null,
   "id": "891628db",
   "metadata": {},
   "outputs": [],
   "source": []
  }
 ],
 "metadata": {
  "kernelspec": {
   "display_name": "Python 3 (ipykernel)",
   "language": "python",
   "name": "python3"
  },
  "language_info": {
   "codemirror_mode": {
    "name": "ipython",
    "version": 3
   },
   "file_extension": ".py",
   "mimetype": "text/x-python",
   "name": "python",
   "nbconvert_exporter": "python",
   "pygments_lexer": "ipython3",
   "version": "3.9.7"
  }
 },
 "nbformat": 4,
 "nbformat_minor": 5
}
